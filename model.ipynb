{
 "cells": [
  {
   "cell_type": "code",
   "execution_count": null,
   "metadata": {},
   "outputs": [],
   "source": [
    "import pandas as pd\n",
    "from sklearn.ensemble import RandomForestClassifier\n",
    "from sklearn.linear_model import LogisticRegression\n",
    "from sklearn.model_selection import train_test_split, KFold, cross_val_score, GridSearchCV\n",
    "from sklearn.metrics import accuracy_score, confusion_matrix\n",
    "from sklearn.decomposition import PCA\n",
    "from sklearn.preprocessing import LabelEncoder, StandardScaler\n",
    "from sklearn.tree import DecisionTreeClassifier\n",
    "import matplotlib.pyplot as plt\n",
    "from xgboost import XGBClassifier"
   ]
  },
  {
   "cell_type": "code",
   "execution_count": 143,
   "metadata": {},
   "outputs": [],
   "source": [
    "pd.set_option('display.max_columns', None)\n",
    "\n",
    "games1 = pd.read_csv('data/games2024.csv')\n",
    "games2 = pd.read_csv('data/games2025.csv')\n",
    "games = pd.concat([games1, games2], ignore_index=True)"
   ]
  },
  {
   "cell_type": "code",
   "execution_count": 144,
   "metadata": {},
   "outputs": [],
   "source": [
    "df1 = pd.read_csv('data/plays2024.csv')\n",
    "data1 = df1[['gameId', 'quarter', 'down', 'yardsToGo', 'gameClock', 'absoluteYardlineNumber', 'possessionTeam', 'defensiveTeam', 'preSnapHomeScore', 'preSnapVisitorScore', 'offenseFormation', 'preSnapHomeTeamWinProbability', 'preSnapVisitorTeamWinProbability']]#, 'receiverAlignment'\n",
    "result1 = df1['passResult']\n",
    "\n",
    "df2 = pd.read_csv('data/plays2025.csv')\n",
    "data2 = df2[['gameId', 'quarter', 'down', 'yardsToGo', 'gameClock', 'absoluteYardlineNumber', 'possessionTeam', 'defensiveTeam', 'preSnapHomeScore', 'preSnapVisitorScore', 'offenseFormation', 'preSnapHomeTeamWinProbability', 'preSnapVisitorTeamWinProbability']]#, 'receiverAlignment'\n",
    "result2 = df2['passResult']\n",
    "\n",
    "data = pd.concat([data1, data2], ignore_index=True)\n",
    "result = pd.concat([result1, result2], ignore_index=True).tolist()"
   ]
  },
  {
   "cell_type": "code",
   "execution_count": 71,
   "metadata": {},
   "outputs": [
    {
     "data": {
      "text/html": [
       "<div>\n",
       "<style scoped>\n",
       "    .dataframe tbody tr th:only-of-type {\n",
       "        vertical-align: middle;\n",
       "    }\n",
       "\n",
       "    .dataframe tbody tr th {\n",
       "        vertical-align: top;\n",
       "    }\n",
       "\n",
       "    .dataframe thead th {\n",
       "        text-align: right;\n",
       "    }\n",
       "</style>\n",
       "<table border=\"1\" class=\"dataframe\">\n",
       "  <thead>\n",
       "    <tr style=\"text-align: right;\">\n",
       "      <th></th>\n",
       "      <th>gameId</th>\n",
       "      <th>quarter</th>\n",
       "      <th>down</th>\n",
       "      <th>yardsToGo</th>\n",
       "      <th>gameClock</th>\n",
       "      <th>absoluteYardlineNumber</th>\n",
       "      <th>possessionTeam</th>\n",
       "      <th>defensiveTeam</th>\n",
       "      <th>preSnapHomeScore</th>\n",
       "      <th>preSnapVisitorScore</th>\n",
       "      <th>offenseFormation</th>\n",
       "      <th>preSnapHomeTeamWinProbability</th>\n",
       "      <th>preSnapVisitorTeamWinProbability</th>\n",
       "    </tr>\n",
       "  </thead>\n",
       "  <tbody>\n",
       "    <tr>\n",
       "      <th>0</th>\n",
       "      <td>2022100908</td>\n",
       "      <td>4</td>\n",
       "      <td>1</td>\n",
       "      <td>10</td>\n",
       "      <td>7:52</td>\n",
       "      <td>69</td>\n",
       "      <td>ATL</td>\n",
       "      <td>TB</td>\n",
       "      <td>21</td>\n",
       "      <td>7</td>\n",
       "      <td>SHOTGUN</td>\n",
       "      <td>0.976785</td>\n",
       "      <td>0.023215</td>\n",
       "    </tr>\n",
       "    <tr>\n",
       "      <th>1</th>\n",
       "      <td>2022091103</td>\n",
       "      <td>4</td>\n",
       "      <td>1</td>\n",
       "      <td>10</td>\n",
       "      <td>7:38</td>\n",
       "      <td>76</td>\n",
       "      <td>PIT</td>\n",
       "      <td>CIN</td>\n",
       "      <td>14</td>\n",
       "      <td>20</td>\n",
       "      <td>SHOTGUN</td>\n",
       "      <td>0.160485</td>\n",
       "      <td>0.839515</td>\n",
       "    </tr>\n",
       "    <tr>\n",
       "      <th>2</th>\n",
       "      <td>2022091111</td>\n",
       "      <td>2</td>\n",
       "      <td>2</td>\n",
       "      <td>5</td>\n",
       "      <td>8:57</td>\n",
       "      <td>40</td>\n",
       "      <td>LV</td>\n",
       "      <td>LAC</td>\n",
       "      <td>10</td>\n",
       "      <td>3</td>\n",
       "      <td>I_FORM</td>\n",
       "      <td>0.756661</td>\n",
       "      <td>0.243339</td>\n",
       "    </tr>\n",
       "    <tr>\n",
       "      <th>3</th>\n",
       "      <td>2022100212</td>\n",
       "      <td>3</td>\n",
       "      <td>2</td>\n",
       "      <td>10</td>\n",
       "      <td>13:12</td>\n",
       "      <td>47</td>\n",
       "      <td>DEN</td>\n",
       "      <td>LV</td>\n",
       "      <td>19</td>\n",
       "      <td>16</td>\n",
       "      <td>SINGLEBACK</td>\n",
       "      <td>0.620552</td>\n",
       "      <td>0.379448</td>\n",
       "    </tr>\n",
       "    <tr>\n",
       "      <th>4</th>\n",
       "      <td>2022091900</td>\n",
       "      <td>2</td>\n",
       "      <td>1</td>\n",
       "      <td>10</td>\n",
       "      <td>8:33</td>\n",
       "      <td>75</td>\n",
       "      <td>BUF</td>\n",
       "      <td>TEN</td>\n",
       "      <td>7</td>\n",
       "      <td>7</td>\n",
       "      <td>I_FORM</td>\n",
       "      <td>0.836290</td>\n",
       "      <td>0.163710</td>\n",
       "    </tr>\n",
       "  </tbody>\n",
       "</table>\n",
       "</div>"
      ],
      "text/plain": [
       "       gameId  quarter  down  yardsToGo gameClock  absoluteYardlineNumber  \\\n",
       "0  2022100908        4     1         10      7:52                      69   \n",
       "1  2022091103        4     1         10      7:38                      76   \n",
       "2  2022091111        2     2          5      8:57                      40   \n",
       "3  2022100212        3     2         10     13:12                      47   \n",
       "4  2022091900        2     1         10      8:33                      75   \n",
       "\n",
       "  possessionTeam defensiveTeam  preSnapHomeScore  preSnapVisitorScore  \\\n",
       "0            ATL            TB                21                    7   \n",
       "1            PIT           CIN                14                   20   \n",
       "2             LV           LAC                10                    3   \n",
       "3            DEN            LV                19                   16   \n",
       "4            BUF           TEN                 7                    7   \n",
       "\n",
       "  offenseFormation  preSnapHomeTeamWinProbability  \\\n",
       "0          SHOTGUN                       0.976785   \n",
       "1          SHOTGUN                       0.160485   \n",
       "2           I_FORM                       0.756661   \n",
       "3       SINGLEBACK                       0.620552   \n",
       "4           I_FORM                       0.836290   \n",
       "\n",
       "   preSnapVisitorTeamWinProbability  \n",
       "0                          0.023215  \n",
       "1                          0.839515  \n",
       "2                          0.243339  \n",
       "3                          0.379448  \n",
       "4                          0.163710  "
      ]
     },
     "execution_count": 71,
     "metadata": {},
     "output_type": "execute_result"
    }
   ],
   "source": [
    "data.head()"
   ]
  },
  {
   "cell_type": "code",
   "execution_count": 72,
   "metadata": {},
   "outputs": [],
   "source": [
    "data['winProbabilityDiff'] = data['preSnapHomeTeamWinProbability'] - data['preSnapVisitorTeamWinProbability']\n",
    "data = data.drop(['preSnapHomeTeamWinProbability', 'preSnapVisitorTeamWinProbability'], axis=1)"
   ]
  },
  {
   "cell_type": "code",
   "execution_count": 73,
   "metadata": {},
   "outputs": [],
   "source": [
    "times = []\n",
    "#yards = []\n",
    "possessionScore = []\n",
    "defenceScore = []\n",
    "pointDiff = []\n",
    "for i in range(len(data)):\n",
    "    if data['quarter'][i] == 1 or data['quarter'][i] == 3:\n",
    "        additional = 15 * 60\n",
    "    else:\n",
    "        additional = 0\n",
    "    #print(df['gameClock'][i])\n",
    "    time = data['gameClock'][i].split(':')\n",
    "    times.append(additional + int(time[0]) * 60 + int(time[1]))\n",
    "\n",
    "    #yard = df['yardlineNumber'][i]\n",
    "    #if df['yardlineSide'][i] == df['possessionTeam'][i]:\n",
    "    #    yard = 100 - int(yard)\n",
    "    #yards.append(yard)\n",
    "\n",
    "    gameid = data['gameId'][i]\n",
    "    pos = data['possessionTeam'][i]\n",
    "    defence = data['defensiveTeam'][i]\n",
    "    row = games[games['gameId'] == gameid]\n",
    "    if pos == row.iloc[0]['homeTeamAbbr']:\n",
    "        possessionScore.append(data['preSnapHomeScore'][i])\n",
    "        defenceScore.append(data['preSnapVisitorScore'][i])\n",
    "        pointDiff.append(data['preSnapHomeScore'][i] - data['preSnapVisitorScore'][i])\n",
    "    else:\n",
    "        possessionScore.append(data['preSnapVisitorScore'][i])\n",
    "        defenceScore.append(data['preSnapHomeScore'][i])\n",
    "        pointDiff.append(data['preSnapVisitorScore'][i] - data['preSnapHomeScore'][i])"
   ]
  },
  {
   "cell_type": "code",
   "execution_count": 74,
   "metadata": {},
   "outputs": [
    {
     "name": "stdout",
     "output_type": "stream",
     "text": [
      "   quarter  down  yardsToGo  absoluteYardlineNumber  possessionTeam  \\\n",
      "0        4     1         10                      69               1   \n",
      "1        4     1         10                      76              26   \n",
      "2        2     2          5                      40              18   \n",
      "3        3     2         10                      47               9   \n",
      "4        2     1         10                      75               3   \n",
      "5        3     3         17                      28               1   \n",
      "6        4     3          5                      85              30   \n",
      "7        1     1         10                      85              28   \n",
      "8        2     1         10                      70              15   \n",
      "9        3     1         10                      85              27   \n",
      "\n",
      "   defensiveTeam  offenseFormation  winProbabilityDiff  timeLeftHalf  \\\n",
      "0             29                 4            0.953569           472   \n",
      "1              6                 4           -0.679031           458   \n",
      "2             17                 1            0.513322           537   \n",
      "3             18                 5            0.241104          1692   \n",
      "4             30                 1            0.672580           513   \n",
      "5              4                 4            0.198957          1514   \n",
      "6             13                 0           -0.538237           811   \n",
      "7             15                 5            0.137442          1800   \n",
      "8             28                 4            0.359213           631   \n",
      "9              1                 4           -0.311328           935   \n",
      "\n",
      "   pointDifferential  \n",
      "0                -14  \n",
      "1                  6  \n",
      "2                 -7  \n",
      "3                 -3  \n",
      "4                  0  \n",
      "5                  1  \n",
      "6                  7  \n",
      "7                  0  \n",
      "8                 -6  \n",
      "9                 -4  \n",
      "['C', nan, 'C', nan, nan, 'C', 'R', nan, nan, 'C']\n",
      "[0, 1, 0, 1, 1, 0, 0, 1, 1, 0]\n"
     ]
    }
   ],
   "source": [
    "data['timeLeftHalf'] = times\n",
    "#data['yardsToGoal'] = yards\n",
    "#data['possessionScore'] = possessionScore\n",
    "#data['defenceScore'] = defenceScore\n",
    "data['pointDifferential'] = pointDiff\n",
    "\n",
    "data = data.drop(['gameClock', 'gameId', 'preSnapHomeScore', 'preSnapVisitorScore'], axis=1)\n",
    "label_encoder = LabelEncoder()\n",
    "data['possessionTeam'] = label_encoder.fit_transform(data['possessionTeam'])\n",
    "data['defensiveTeam'] = label_encoder.fit_transform(data['defensiveTeam'])\n",
    "data['offenseFormation'] = label_encoder.fit_transform(data['offenseFormation'])\n",
    "#data['receiverAlignment'] = label_encoder.fit_transform(data['receiverAlignment'])\n",
    "\n",
    "# 0 for pass 1 for run\n",
    "target = [0 if type(i) == type(\"\") else 1 for i in result]\n",
    "\n",
    "print(data[:10])\n",
    "print(result[:10])\n",
    "print(target[:10])\n",
    "\n",
    "X_train, X_test, y_train, y_test = train_test_split(data, target, test_size=0.3, random_state=42)"
   ]
  },
  {
   "cell_type": "code",
   "execution_count": null,
   "metadata": {},
   "outputs": [
    {
     "name": "stdout",
     "output_type": "stream",
     "text": [
      "Logistic Regression Accuracy: 0.6564138413142258\n",
      "Confusion Matrix:\n",
      "[[3327 1456]\n",
      " [1493 2307]]\n"
     ]
    }
   ],
   "source": [
    "# Logistic Regression (Baseline)\n",
    "# Best parameters found:  {'C': 0.1, 'penalty': 'l1', 'solver': 'liblinear'}\n",
    "logr = LogisticRegression(max_iter=1000, C=0.1, penalty='l1', solver='liblinear')\n",
    "logr.fit(X_train, y_train)\n",
    "\n",
    "# Evaluate model\n",
    "y_pred = logr.predict(X_test)\n",
    "accuracy = accuracy_score(y_test, y_pred)\n",
    "cm = confusion_matrix(y_test, y_pred)\n",
    "\n",
    "print(f\"Logistic Regression Accuracy: {accuracy}\")\n",
    "print(\"Confusion Matrix:\")\n",
    "print(cm)"
   ]
  },
  {
   "cell_type": "code",
   "execution_count": null,
   "metadata": {},
   "outputs": [
    {
     "data": {
      "image/png": "[encoded data removed]",
      "text/plain": [
       "<Figure size 1000x600 with 1 Axes>"
      ]
     },
     "metadata": {},
     "output_type": "display_data"
    }
   ],
   "source": [
    "# Extract feature importance (coefficients)\n",
    "coefficients = logr.coef_[0]\n",
    "features = X_train.columns\n",
    "\n",
    "# Create a bar chart for feature importance\n",
    "plt.figure(figsize=(10, 6))\n",
    "plt.barh(features, coefficients, edgecolor='k')\n",
    "plt.title('Feature Coefficients from Logistic Regression')\n",
    "plt.xlabel('Coefficient Value')\n",
    "plt.ylabel('Features')\n",
    "plt.gca().invert_yaxis()  # To display most important feature at the top\n",
    "plt.tight_layout()\n",
    "plt.show()"
   ]
  },
  {
   "cell_type": "code",
   "execution_count": 139,
   "metadata": {},
   "outputs": [
    {
     "name": "stdout",
     "output_type": "stream",
     "text": [
      "Accuracy: 0.8886170336712106\n",
      "Confusion Matrix:\n",
      "[[4188  595]\n",
      " [ 361 3439]]\n"
     ]
    }
   ],
   "source": [
    "# Random Forest\n",
    "rf = RandomForestClassifier(n_estimators=150, max_depth=25, random_state=42) # Best model: 89.0% n_estimators=150, max_depth=25, random_state=42\n",
    "rf.fit(X_train, y_train)\n",
    "\n",
    "y_pred = rf.predict(X_test)\n",
    "\n",
    "accuracy = accuracy_score(y_test, y_pred)\n",
    "print(f\"Accuracy: {accuracy}\")\n",
    "cm = confusion_matrix(y_test, y_pred)\n",
    "print(\"Confusion Matrix:\")\n",
    "print(cm)"
   ]
  },
  {
   "cell_type": "code",
   "execution_count": 77,
   "metadata": {},
   "outputs": [
    {
     "name": "stdout",
     "output_type": "stream",
     "text": [
      "\n",
      "Total distribution of downs:\n",
      "{1: 3902, 2: 2864, 3: 1670, 4: 147}\n",
      "1st: 0.45461959687754866, 2nd: 0.33368286147034837, 3rd: 0.19457066293836653, 4th: 0.017126878713736457\n",
      "\n",
      "Incorrectly classified downs:\n",
      "{1: 546, 2: 305, 3: 90, 4: 15}\n",
      "1st: 0.5711297071129707, 2nd: 0.3190376569037657, 3rd: 0.09414225941422594, 4th: 0.015690376569037656\n",
      "Accuracy by down:\n",
      "1st: 0.8600717580727832, 2nd: 0.8935055865921788, 3rd: 0.9461077844311377, 4th: 0.8979591836734694\n",
      "Features: Index(['quarter', 'down', 'yardsToGo', 'absoluteYardlineNumber',\n",
      "       'possessionTeam', 'defensiveTeam', 'offenseFormation',\n",
      "       'winProbabilityDiff', 'timeLeftHalf', 'pointDifferential'],\n",
      "      dtype='object')\n",
      "Importances: [0.03122147 0.05248793 0.09193159 0.11838784 0.08560234 0.08164643\n",
      " 0.17212848 0.13603164 0.14798067 0.0825816 ]\n"
     ]
    }
   ],
   "source": [
    "\n",
    "indices = [i for i, (true, pred) in enumerate(zip(y_test, y_pred))]\n",
    "\n",
    "print(\"\\nTotal distribution of downs:\")\n",
    "downs = {1: 0, 2: 0, 3: 0, 4: 0}\n",
    "for idx in indices:\n",
    "    #print(f\"Index: {idx}, True label: {y_test[idx]}, Predicted label: {y_pred[idx]}\")\n",
    "    #print(f\"Features: {X_test.iloc[idx].to_dict()}\")\n",
    "    downs[X_test.iloc[idx].to_dict()['down']] += 1\n",
    "\n",
    "print(downs)\n",
    "print(f\"1st: {downs[1]/len(indices)}, 2nd: {downs[2]/len(indices)}, 3rd: {downs[3]/len(indices)}, 4th: {downs[4]/len(indices)}\")\n",
    "\n",
    "misclassified_indices = [i for i, (true, pred) in enumerate(zip(y_test, y_pred)) if true != pred]\n",
    "\n",
    "print(\"\\nIncorrectly classified downs:\")\n",
    "mis_downs = {1: 0, 2: 0, 3: 0, 4: 0}\n",
    "for idx in misclassified_indices:\n",
    "    #print(f\"Index: {idx}, True label: {y_test[idx]}, Predicted label: {y_pred[idx]}\")\n",
    "    #print(f\"Features: {X_test.iloc[idx].to_dict()}\")\n",
    "    mis_downs[X_test.iloc[idx].to_dict()['down']] += 1\n",
    "\n",
    "print(mis_downs)\n",
    "print(f\"1st: {mis_downs[1]/len(misclassified_indices)}, 2nd: {mis_downs[2]/len(misclassified_indices)}, 3rd: {mis_downs[3]/len(misclassified_indices)}, 4th: {mis_downs[4]/len(misclassified_indices)}\")\n",
    "print(f\"Accuracy by down:\\n1st: {(downs[1] - mis_downs[1])/downs[1]}, 2nd: {(downs[2] - mis_downs[2])/downs[2]}, 3rd: {(downs[3] - mis_downs[3])/downs[3]}, 4th: {(downs[4] - mis_downs[4])/downs[4]}\")\n",
    "\n",
    "print(f\"Features: {X_train.columns}\")\n",
    "print(f\"Importances: {rf.feature_importances_}\")"
   ]
  },
  {
   "cell_type": "code",
   "execution_count": 78,
   "metadata": {},
   "outputs": [
    {
     "name": "stdout",
     "output_type": "stream",
     "text": [
      "CV Scores: [0.86120819 0.87818273 0.86470295 0.87718422 0.87269096 0.85921118\n",
      " 0.87319021 0.88911089 0.87262737 0.87362637]\n"
     ]
    }
   ],
   "source": [
    "k_folds = KFold(n_splits=10)\n",
    "\n",
    "scores = cross_val_score(rf, X_train, y_train, cv=k_folds) \n",
    "\n",
    "print(f\"CV Scores: {scores}\")"
   ]
  },
  {
   "cell_type": "code",
   "execution_count": null,
   "metadata": {},
   "outputs": [
    {
     "name": "stdout",
     "output_type": "stream",
     "text": [
      "Decision Tree Accuracy: 0.8665967610392636\n",
      "Decision Tree Confusion Matrix:\n",
      "[[4089  694]\n",
      " [ 451 3349]]\n"
     ]
    }
   ],
   "source": [
    "\n",
    "# Train a Decision Tree Classifier\n",
    "dt = DecisionTreeClassifier(max_depth=29, random_state=42)\n",
    "dt.fit(X_train, y_train)\n",
    "\n",
    "# Predictions and Evaluation\n",
    "y_pred_dt = dt.predict(X_test)\n",
    "accuracy_dt = accuracy_score(y_test, y_pred_dt)\n",
    "cm_dt = confusion_matrix(y_test, y_pred_dt)\n",
    "\n",
    "print(f\"Decision Tree Accuracy: {accuracy_dt}\")\n",
    "print(\"Decision Tree Confusion Matrix:\")\n",
    "print(cm_dt)"
   ]
  },
  {
   "cell_type": "code",
   "execution_count": null,
   "metadata": {},
   "outputs": [
    {
     "data": {
      "image/png": "[encoded data removed]",
      "text/plain": [
       "<Figure size 1000x600 with 1 Axes>"
      ]
     },
     "metadata": {},
     "output_type": "display_data"
    }
   ],
   "source": [
    "\n",
    "# Assuming `dt` is the trained DecisionTreeClassifier\n",
    "feature_importance = dt.feature_importances_\n",
    "\n",
    "# Assuming `X_train` is the DataFrame used for training\n",
    "features = X_train.columns\n",
    "\n",
    "# Create a DataFrame for easy visualization\n",
    "importance_df = pd.DataFrame({\n",
    "    'Feature': features,\n",
    "    'Importance': feature_importance\n",
    "}).sort_values(by='Importance', ascending=False)\n",
    "\n",
    "# Plot the feature importances\n",
    "plt.figure(figsize=(10, 6))\n",
    "plt.barh(importance_df['Feature'], importance_df['Importance'], edgecolor='k')\n",
    "plt.xlabel('Importance')\n",
    "plt.ylabel('Features')\n",
    "plt.title('Feature Importance in Decision Tree')\n",
    "plt.gca().invert_yaxis()  # To display the most important feature at the top\n",
    "plt.tight_layout()\n",
    "plt.show()\n"
   ]
  },
  {
   "cell_type": "code",
   "execution_count": 82,
   "metadata": {},
   "outputs": [
    {
     "name": "stdout",
     "output_type": "stream",
     "text": [
      "CV Scores: [0.84173739 0.84223665 0.83574638 0.85821268 0.85521717 0.83125312\n",
      " 0.8457314  0.85164835 0.83716284 0.83816184]\n"
     ]
    }
   ],
   "source": [
    "scores = cross_val_score(dt, X_train, y_train, cv=k_folds) \n",
    "\n",
    "print(f\"CV Scores: {scores}\")"
   ]
  },
  {
   "cell_type": "code",
   "execution_count": null,
   "metadata": {},
   "outputs": [
    {
     "name": "stdout",
     "output_type": "stream",
     "text": [
      "XGBoost Accuracy: 0.8837236397530002\n",
      "CV Scores: [0.8662007  0.86769845 0.85971043 0.87618572 0.86919621 0.86220669\n",
      " 0.86370444 0.87962038 0.87012987 0.85514486]\n"
     ]
    }
   ],
   "source": [
    "xgb = XGBClassifier(n_estimators=20, max_depth=25, random_state=42, eval_metric='logloss')\n",
    "xgb.fit(X_train, y_train)\n",
    "y_pred_xgb = xgb.predict(X_test)\n",
    "print(f\"XGBoost Accuracy: {accuracy_score(y_test, y_pred_xgb)}\")\n",
    "scores = cross_val_score(xgb, X_train, y_train, cv=k_folds) \n",
    "\n",
    "print(f\"CV Scores: {scores}\")"
   ]
  },
  {
   "cell_type": "code",
   "execution_count": null,
   "metadata": {},
   "outputs": [
    {
     "name": "stdout",
     "output_type": "stream",
     "text": [
      "Neural Network Accuracy: 0.6863567517185133\n"
     ]
    },
    {
     "name": "stderr",
     "output_type": "stream",
     "text": [
      "/opt/anaconda3/envs/csc466/lib/python3.13/site-packages/sklearn/neural_network/_multilayer_perceptron.py:690: ConvergenceWarning: Stochastic Optimizer: Maximum iterations (50) reached and the optimization hasn't converged yet.\n",
      "  warnings.warn(\n"
     ]
    }
   ],
   "source": [
    "from sklearn.neural_network import MLPClassifier\n",
    "mlp = MLPClassifier(hidden_layer_sizes=(400,200,100), max_iter=50, random_state=42)\n",
    "mlp.fit(X_train, y_train)\n",
    "y_pred_mlp = mlp.predict(X_test)\n",
    "print(f\"Neural Network Accuracy: {accuracy_score(y_test, y_pred_mlp)}\")\n",
    "scores = cross_val_score(mlp, X_train, y_train, cv=k_folds) \n",
    "\n",
    "print(f\"CV Scores: {scores}\")"
   ]
  },
  {
   "cell_type": "code",
   "execution_count": 140,
   "metadata": {},
   "outputs": [
    {
     "name": "stdout",
     "output_type": "stream",
     "text": [
      "Stacking Classifier Accuracy: 0.8897821274612606\n",
      "CV Scores: [0.86320519 0.88117823 0.86270594 0.87468797 0.87468797 0.86220669\n",
      " 0.87368947 0.88861139 0.87062937 0.87112887]\n"
     ]
    }
   ],
   "source": [
    "from sklearn.ensemble import StackingClassifier\n",
    "stacking_clf = StackingClassifier(estimators=[\n",
    "    ('xgb', xgb), ('rf', rf)], final_estimator=LogisticRegression())\n",
    "stacking_clf.fit(X_train, y_train)\n",
    "y_pred_stacking = stacking_clf.predict(X_test)\n",
    "print(f\"Stacking Classifier Accuracy: {accuracy_score(y_test, y_pred_stacking)}\")\n",
    "scores = cross_val_score(stacking_clf, X_train, y_train, cv=k_folds)\n",
    "print(f\"CV Scores: {scores}\")"
   ]
  },
  {
   "cell_type": "code",
   "execution_count": 141,
   "metadata": {},
   "outputs": [
    {
     "name": "stdout",
     "output_type": "stream",
     "text": [
      "\n",
      "--- Training Voting Classifier ---\n",
      "Voting Classifier Test Accuracy: 0.8888500524292205\n",
      "Confusion Matrix:\n",
      "[[4198  585]\n",
      " [ 369 3431]]\n"
     ]
    }
   ],
   "source": [
    "from sklearn.ensemble import VotingClassifier\n",
    "\n",
    "# Create the voting classifier\n",
    "voting_clf = VotingClassifier(\n",
    "    estimators=[('xgb', xgb), ('dt', dt), ('rf', rf)],\n",
    "    voting='hard'  # 'hard' for majority voting; 'soft' for averaging probabilities\n",
    ")\n",
    "\n",
    "# Train the voting classifier\n",
    "print(\"\\n--- Training Voting Classifier ---\")\n",
    "voting_clf.fit(X_train, y_train)\n",
    "\n",
    "# Evaluate the voting classifier\n",
    "y_pred = voting_clf.predict(X_test)\n",
    "accuracy = accuracy_score(y_test, y_pred)\n",
    "cm = confusion_matrix(y_test, y_pred)\n",
    "\n",
    "print(f\"Voting Classifier Test Accuracy: {accuracy}\")\n",
    "print(\"Confusion Matrix:\")\n",
    "print(cm)"
   ]
  }
 ],
 "metadata": {
  "kernelspec": {
   "display_name": "csc466",
   "language": "python",
   "name": "python3"
  },
  "language_info": {
   "codemirror_mode": {
    "name": "ipython",
    "version": 3
   },
   "file_extension": ".py",
   "mimetype": "text/x-python",
   "name": "python",
   "nbconvert_exporter": "python",
   "pygments_lexer": "ipython3",
   "version": "3.13.0"
  }
 },
 "nbformat": 4,
 "nbformat_minor": 2
}
